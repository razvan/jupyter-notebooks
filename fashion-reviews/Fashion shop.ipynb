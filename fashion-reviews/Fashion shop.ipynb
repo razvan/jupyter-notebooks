{
 "cells": [
  {
   "cell_type": "code",
   "execution_count": null,
   "id": "adolescent-native",
   "metadata": {},
   "outputs": [],
   "source": [
    "import pandas as pd\n",
    "import numpy as np\n",
    "\n",
    "from sklearn.model_selection import train_test_split, GridSearchCV\n",
    "from sklearn.feature_extraction.text import CountVectorizer\n",
    "from sklearn.feature_extraction.text import TfidfTransformer\n",
    "from sklearn.linear_model import SGDClassifier\n",
    "from sklearn.pipeline import Pipeline\n",
    "\n",
    "import matplotlib.pyplot as plt\n",
    "import seaborn as sns\n",
    "\n",
    "import random\n",
    "random.seed(42)"
   ]
  },
  {
   "cell_type": "code",
   "execution_count": null,
   "id": "adjusted-turtle",
   "metadata": {},
   "outputs": [],
   "source": [
    "!pip install scikit-plot"
   ]
  },
  {
   "cell_type": "code",
   "execution_count": null,
   "id": "competitive-factor",
   "metadata": {},
   "outputs": [],
   "source": [
    "import scikitplot as skplt"
   ]
  },
  {
   "cell_type": "code",
   "execution_count": null,
   "id": "asian-ottawa",
   "metadata": {},
   "outputs": [],
   "source": [
    "reviews = pd.read_csv('reviews.csv.gz')"
   ]
  },
  {
   "cell_type": "code",
   "execution_count": null,
   "id": "breathing-pregnancy",
   "metadata": {},
   "outputs": [],
   "source": [
    "reviews"
   ]
  },
  {
   "cell_type": "code",
   "execution_count": null,
   "id": "norwegian-group",
   "metadata": {},
   "outputs": [],
   "source": [
    "review_text = reviews['Review Text'].values.astype('U')\n",
    "age_group = (reviews['Age'] < 40).values\n",
    "\n",
    "X_train, X_test, y_train, y_test = train_test_split(review_text, age_group, test_size=0.15, random_state=42)"
   ]
  },
  {
   "cell_type": "markdown",
   "id": "permanent-salem",
   "metadata": {},
   "source": [
    "# Train model"
   ]
  },
  {
   "cell_type": "code",
   "execution_count": null,
   "id": "civilian-appointment",
   "metadata": {},
   "outputs": [],
   "source": [
    "pipeline = Pipeline([\n",
    "    ('vect', CountVectorizer()),\n",
    "    ('tfidf', TfidfTransformer()),\n",
    "    ('clf', SGDClassifier()),\n",
    "])\n",
    "\n",
    "parameters = {\n",
    "    'vect__stop_words': ('english',),\n",
    "    'vect__max_df': (0.5, 0.75, 1.0),\n",
    "    #'vect__max_features': (None, 5000, 10000, 50000),\n",
    "    'vect__ngram_range': ((1, 2),),  # unigrams or bigrams\n",
    "    'tfidf__use_idf': (True, ),\n",
    "    'tfidf__norm': ('l1', 'l2'),\n",
    "    'clf__max_iter': (100, ),\n",
    "    'clf__alpha': (0.00001, ),\n",
    "    'clf__penalty': ('l2', ),\n",
    "    # 'clf__max_iter': (10, 50, 80),\n",
    "    'clf__loss': ('log', )\n",
    "}"
   ]
  },
  {
   "cell_type": "code",
   "execution_count": null,
   "id": "accurate-frost",
   "metadata": {},
   "outputs": [],
   "source": [
    "grid_search = GridSearchCV(pipeline, parameters, n_jobs=-1, verbose=1)\n",
    "estimator = grid_search.fit(X_train, y_train)"
   ]
  },
  {
   "cell_type": "code",
   "execution_count": null,
   "id": "dramatic-livestock",
   "metadata": {},
   "outputs": [],
   "source": [
    "    print(\"Best score: %0.3f\" % grid_search.best_score_)\n",
    "    print(\"Best parameters set:\")\n",
    "    best_parameters = grid_search.best_estimator_.get_params()\n",
    "    for param_name in sorted(parameters.keys()):\n",
    "        print(\"\\t%s: %r\" % (param_name, best_parameters[param_name]))"
   ]
  },
  {
   "cell_type": "code",
   "execution_count": null,
   "id": "appointed-massage",
   "metadata": {},
   "outputs": [],
   "source": [
    "y_train_pred = estimator.predict(X_train)"
   ]
  },
  {
   "cell_type": "code",
   "execution_count": null,
   "id": "intense-breakfast",
   "metadata": {},
   "outputs": [],
   "source": [
    "ax=skplt.metrics.plot_confusion_matrix(y_train, y_train_pred, normalize=False)"
   ]
  },
  {
   "cell_type": "code",
   "execution_count": null,
   "id": "statistical-impossible",
   "metadata": {},
   "outputs": [],
   "source": [
    "y_test_probs = estimator.predict_proba(X_test)\n",
    "\n",
    "skplt.metrics.plot_roc(y_test, y_test_probs,\n",
    "                       title=\"Digits ROC Curve\", figsize=(12,6));"
   ]
  },
  {
   "cell_type": "markdown",
   "id": "shared-cooperation",
   "metadata": {},
   "source": [
    "# Play"
   ]
  },
  {
   "cell_type": "code",
   "execution_count": null,
   "id": "adolescent-surgery",
   "metadata": {},
   "outputs": [],
   "source": [
    "selected_review = random.randint(0, len(X_test))"
   ]
  },
  {
   "cell_type": "code",
   "execution_count": null,
   "id": "unnecessary-feeling",
   "metadata": {},
   "outputs": [],
   "source": [
    "X_test[selected_review]"
   ]
  },
  {
   "cell_type": "code",
   "execution_count": null,
   "id": "scheduled-wholesale",
   "metadata": {},
   "outputs": [],
   "source": [
    "estimator.predict([ X_test[selected_review] ])[0]"
   ]
  },
  {
   "cell_type": "code",
   "execution_count": null,
   "id": "martial-practitioner",
   "metadata": {},
   "outputs": [],
   "source": [
    "y_test[selected_review]"
   ]
  }
 ],
 "metadata": {
  "kernelspec": {
   "display_name": "Python 3",
   "language": "python",
   "name": "python3"
  },
  "language_info": {
   "codemirror_mode": {
    "name": "ipython",
    "version": 3
   },
   "file_extension": ".py",
   "mimetype": "text/x-python",
   "name": "python",
   "nbconvert_exporter": "python",
   "pygments_lexer": "ipython3",
   "version": "3.8.6"
  }
 },
 "nbformat": 4,
 "nbformat_minor": 5
}
